{
 "cells": [
  {
   "cell_type": "code",
   "execution_count": 4,
   "metadata": {},
   "outputs": [
    {
     "ename": "SyntaxError",
     "evalue": "expected ':' (2247398712.py, line 12)",
     "output_type": "error",
     "traceback": [
      "\u001b[1;36m  Cell \u001b[1;32mIn[4], line 12\u001b[1;36m\u001b[0m\n\u001b[1;33m    if n>=18                           #colon missing\u001b[0m\n\u001b[1;37m                                       ^\u001b[0m\n\u001b[1;31mSyntaxError\u001b[0m\u001b[1;31m:\u001b[0m expected ':'\n"
     ]
    }
   ],
   "source": [
    "'''------------------------>Types of exceptions in python<-------------------------\n",
    "\n",
    "1. SyntaxError - SyntaxError is a compile time error, it is not a run time error meaning \n",
    "that it is not an exception. If our program encounters a SyntaxError, our program will not \n",
    "compile. This error as the name suggests is raised when the interpreter \n",
    "encounters a syntax error in our code, such as misspelled keyword, a missing colon, \n",
    "or an unbalanced parenthesis or any type of syntax related errors.'''\n",
    "\n",
    "#Description \n",
    "#error code\n",
    "n=int(input(\"Enter your age:\"))\n",
    "if n>=18                           #colon missing\n",
    "    print(\"You are eligible for voting\")\n",
    "else                                #colon missing\n",
    "    print(\"You are not eligible for voting\")"
   ]
  },
  {
   "cell_type": "code",
   "execution_count": 5,
   "metadata": {},
   "outputs": [
    {
     "ename": "SyntaxError",
     "evalue": "expected ':' (285675674.py, line 4)",
     "output_type": "error",
     "traceback": [
      "\u001b[1;36m  Cell \u001b[1;32mIn[5], line 4\u001b[1;36m\u001b[0m\n\u001b[1;33m    if n>=18                                    #missing colon\u001b[0m\n\u001b[1;37m                                                ^\u001b[0m\n\u001b[1;31mSyntaxError\u001b[0m\u001b[1;31m:\u001b[0m expected ':'\n"
     ]
    }
   ],
   "source": [
    "#trying using try-except\n",
    "try:\n",
    "    n=int(input(\"Enter your age:\"))\n",
    "    if n>=18                                    #missing colon\n",
    "        print(\"You are eligible for voting\")\n",
    "    else:\n",
    "        print(\"You are not eligible for voting\")\n",
    "except SyntaxError as e:\n",
    "    print(e)\n",
    "    \n",
    "'''Even after writing the program in the try and except block the program will continue\n",
    "to give the same error, because it is not a run time error. So, that's why using try-except \n",
    "is not a good solution to this type of error. The only solution to this problem is to \n",
    "correct the syntax errors and then try to run the program again.'''"
   ]
  },
  {
   "cell_type": "code",
   "execution_count": 7,
   "metadata": {},
   "outputs": [
    {
     "ename": "ZeroDivisionError",
     "evalue": "division by zero",
     "output_type": "error",
     "traceback": [
      "\u001b[1;31m---------------------------------------------------------------------------\u001b[0m",
      "\u001b[1;31mZeroDivisionError\u001b[0m                         Traceback (most recent call last)",
      "Cell \u001b[1;32mIn[7], line 11\u001b[0m\n\u001b[0;32m      9\u001b[0m a\u001b[38;5;241m=\u001b[39m\u001b[38;5;28mint\u001b[39m(\u001b[38;5;28minput\u001b[39m(\u001b[38;5;124m\"\u001b[39m\u001b[38;5;124mEnter a number:\u001b[39m\u001b[38;5;124m\"\u001b[39m))\n\u001b[0;32m     10\u001b[0m b\u001b[38;5;241m=\u001b[39m\u001b[38;5;28mint\u001b[39m(\u001b[38;5;28minput\u001b[39m(\u001b[38;5;124m\"\u001b[39m\u001b[38;5;124mEnter a number:\u001b[39m\u001b[38;5;124m\"\u001b[39m)) \u001b[38;5;66;03m#if anyone gives here 0 as an input, it'll raise exception\u001b[39;00m\n\u001b[1;32m---> 11\u001b[0m c\u001b[38;5;241m=\u001b[39m\u001b[43ma\u001b[49m\u001b[38;5;241;43m/\u001b[39;49m\u001b[43mb\u001b[49m\n\u001b[0;32m     12\u001b[0m \u001b[38;5;28mprint\u001b[39m(c)\n",
      "\u001b[1;31mZeroDivisionError\u001b[0m: division by zero"
     ]
    }
   ],
   "source": [
    "'''\n",
    "2. ZeroDivisionError - This exception comes when we try to divide a number by zero. \n",
    "Denominator should not be zero, it is not possible to divide any number by zero, so if \n",
    "someone tries to divide by zero, it will raise an exception named ZeroDivisionError'''\n",
    "\n",
    "#Description\n",
    "#error code\n",
    "\n",
    "a=int(input(\"Enter a number:\"))\n",
    "b=int(input(\"Enter a number:\")) #if anyone gives here 0 as an input, it'll raise exception\n",
    "c=a/b\n",
    "print(c)"
   ]
  },
  {
   "cell_type": "code",
   "execution_count": 9,
   "metadata": {},
   "outputs": [
    {
     "name": "stdout",
     "output_type": "stream",
     "text": [
      "ZeroDivisionError: division by zero\n"
     ]
    }
   ],
   "source": [
    "#Correct code with exception handling\n",
    "a=int(input(\"Enter a number:\"))\n",
    "b=int(input(\"Enter a number:\"))\n",
    "try:\n",
    "    c=a/b\n",
    "except ZeroDivisionError as e:\n",
    "    print(\"ZeroDivisionError:\",e)\n",
    "else:\n",
    "    print(c)"
   ]
  },
  {
   "cell_type": "code",
   "execution_count": 10,
   "metadata": {},
   "outputs": [
    {
     "name": "stdout",
     "output_type": "stream",
     "text": [
      "5.0\n"
     ]
    },
    {
     "ename": "ValueError",
     "evalue": "could not convert string to float: 'Upflairs'",
     "output_type": "error",
     "traceback": [
      "\u001b[1;31m---------------------------------------------------------------------------\u001b[0m",
      "\u001b[1;31mValueError\u001b[0m                                Traceback (most recent call last)",
      "Cell \u001b[1;32mIn[10], line 12\u001b[0m\n\u001b[0;32m      9\u001b[0m b\u001b[38;5;241m=\u001b[39m\u001b[38;5;124m\"\u001b[39m\u001b[38;5;124mUpflairs\u001b[39m\u001b[38;5;124m\"\u001b[39m\n\u001b[0;32m     11\u001b[0m \u001b[38;5;28mprint\u001b[39m(\u001b[38;5;28mfloat\u001b[39m(a))         \u001b[38;5;66;03m#works without error\u001b[39;00m\n\u001b[1;32m---> 12\u001b[0m \u001b[38;5;28mprint\u001b[39m(\u001b[38;5;28;43mfloat\u001b[39;49m\u001b[43m(\u001b[49m\u001b[43mb\u001b[49m\u001b[43m)\u001b[49m)\n\u001b[0;32m     13\u001b[0m \u001b[38;5;124;03m'''it'll raise a ValueError because we cannot convert a string literal (Upflairs) \u001b[39;00m\n\u001b[0;32m     14\u001b[0m \u001b[38;5;124;03mto a float literal'''\u001b[39;00m\n",
      "\u001b[1;31mValueError\u001b[0m: could not convert string to float: 'Upflairs'"
     ]
    }
   ],
   "source": [
    "'''\n",
    "3. ValueError - This exception is raised when a function or method is called with \n",
    "an invalid argument or input, such as trying to convert a string to an integer when \n",
    "the string does not represent a valid integer.'''\n",
    "\n",
    "#description\n",
    "#error code\n",
    "a=5\n",
    "b=\"Upflairs\"\n",
    "\n",
    "print(float(a))         #works without error\n",
    "print(float(b))\n",
    "'''it'll raise a ValueError because we cannot convert a string literal (Upflairs) \n",
    "to a float literal'''"
   ]
  },
  {
   "cell_type": "code",
   "execution_count": 11,
   "metadata": {},
   "outputs": [
    {
     "name": "stdout",
     "output_type": "stream",
     "text": [
      "5.0\n",
      "ValueError: could not convert string to float: 'Upflairs'\n"
     ]
    }
   ],
   "source": [
    "#Correct code with try and except\n",
    "\n",
    "a=5\n",
    "b=\"Upflairs\"\n",
    "\n",
    "try:\n",
    "    print(float(a))\n",
    "    print(float(b))\n",
    "except ValueError as e:\n",
    "    print(\"ValueError:\",e)"
   ]
  },
  {
   "cell_type": "code",
   "execution_count": 15,
   "metadata": {},
   "outputs": [
    {
     "ename": "NameError",
     "evalue": "name 'abc' is not defined",
     "output_type": "error",
     "traceback": [
      "\u001b[1;31m---------------------------------------------------------------------------\u001b[0m",
      "\u001b[1;31mNameError\u001b[0m                                 Traceback (most recent call last)",
      "Cell \u001b[1;32mIn[15], line 10\u001b[0m\n\u001b[0;32m      6\u001b[0m \u001b[38;5;66;03m#Description\u001b[39;00m\n\u001b[0;32m      7\u001b[0m \u001b[38;5;66;03m#error code\u001b[39;00m\n\u001b[0;32m      9\u001b[0m a\u001b[38;5;241m=\u001b[39m\u001b[38;5;241m5\u001b[39m\n\u001b[1;32m---> 10\u001b[0m \u001b[38;5;28mprint\u001b[39m(\u001b[43mabc\u001b[49m)        \u001b[38;5;66;03m#undefined variable 'abc'\u001b[39;00m\n",
      "\u001b[1;31mNameError\u001b[0m: name 'abc' is not defined"
     ]
    }
   ],
   "source": [
    "'''4. NameError - This type of exception is raised when the program attempts to access \n",
    "or use a variable or a function that has not been defined or assigned a value. \n",
    "This can happen if the variable is spelled incorrectly, or if it is accessed before \n",
    "it has been defined. '''\n",
    "\n",
    "#Description\n",
    "#error code\n",
    "\n",
    "a=5\n",
    "print(abc)        #undefined variable 'abc'"
   ]
  },
  {
   "cell_type": "code",
   "execution_count": 17,
   "metadata": {},
   "outputs": [
    {
     "name": "stdout",
     "output_type": "stream",
     "text": [
      "5\n",
      "NameError: name 'x' is not defined\n"
     ]
    }
   ],
   "source": [
    "#Correct code\n",
    "a=5\n",
    "try:\n",
    "    print(a)\n",
    "    print(x)    \n",
    "except NameError as e:\n",
    "    print(\"NameError:\",e)"
   ]
  },
  {
   "cell_type": "code",
   "execution_count": 18,
   "metadata": {},
   "outputs": [
    {
     "ename": "TypeError",
     "evalue": "unsupported operand type(s) for +: 'int' and 'str'",
     "output_type": "error",
     "traceback": [
      "\u001b[1;31m---------------------------------------------------------------------------\u001b[0m",
      "\u001b[1;31mTypeError\u001b[0m                                 Traceback (most recent call last)",
      "Cell \u001b[1;32mIn[18], line 11\u001b[0m\n\u001b[0;32m      9\u001b[0m a\u001b[38;5;241m=\u001b[39m\u001b[38;5;241m5\u001b[39m\n\u001b[0;32m     10\u001b[0m b\u001b[38;5;241m=\u001b[39m\u001b[38;5;124m'\u001b[39m\u001b[38;5;124maman\u001b[39m\u001b[38;5;124m'\u001b[39m\n\u001b[1;32m---> 11\u001b[0m \u001b[38;5;28mprint\u001b[39m(\u001b[43ma\u001b[49m\u001b[38;5;241;43m+\u001b[39;49m\u001b[43mb\u001b[49m)      \n\u001b[0;32m     13\u001b[0m \u001b[38;5;124;03m'''In the above example, the variable 'b' is a string, and the variable ‘a’ is an integer. \u001b[39;00m\n\u001b[0;32m     14\u001b[0m \u001b[38;5;124;03mThe + (addition) operator cannot be used between these two types and hence \u001b[39;00m\n\u001b[0;32m     15\u001b[0m \u001b[38;5;124;03mTypeError is raised.'''\u001b[39;00m\n",
      "\u001b[1;31mTypeError\u001b[0m: unsupported operand type(s) for +: 'int' and 'str'"
     ]
    }
   ],
   "source": [
    "'''\n",
    "5. TypeError - This exception is one among the several standard Python exceptions. \n",
    "TypeError is raised whenever an operation is performed on an incorrect/unsupported \n",
    "object type. For example, using the + (addition) operator on a string and an integer \n",
    "value will raise a TypeError.'''\n",
    "\n",
    "#Description\n",
    "#error code\n",
    "a=5\n",
    "b='aman'\n",
    "print(a+b)      \n",
    "\n",
    "'''In the above example, the variable 'b' is a string, and the variable ‘a’ is an integer. \n",
    "The + (addition) operator cannot be used between these two types and hence \n",
    "TypeError is raised.'''"
   ]
  },
  {
   "cell_type": "code",
   "execution_count": 19,
   "metadata": {},
   "outputs": [
    {
     "name": "stdout",
     "output_type": "stream",
     "text": [
      "5\n",
      "aman\n",
      "TypeError: unsupported operand type(s) for +: 'int' and 'str'\n"
     ]
    }
   ],
   "source": [
    "#Correct code\n",
    "a=5\n",
    "b='aman'\n",
    "try:\n",
    "    print(a)            #5\n",
    "    print(b)            #'aman'\n",
    "    print(a+b)          #exception will raise\n",
    "except TypeError as e:\n",
    "    print(\"TypeError:\",e)"
   ]
  },
  {
   "cell_type": "code",
   "execution_count": 21,
   "metadata": {},
   "outputs": [
    {
     "ename": "IndexError",
     "evalue": "list index out of range",
     "output_type": "error",
     "traceback": [
      "\u001b[1;31m---------------------------------------------------------------------------\u001b[0m",
      "\u001b[1;31mIndexError\u001b[0m                                Traceback (most recent call last)",
      "Cell \u001b[1;32mIn[21], line 18\u001b[0m\n\u001b[0;32m     15\u001b[0m     lst\u001b[38;5;241m.\u001b[39mappend(x)\n\u001b[0;32m     17\u001b[0m pos\u001b[38;5;241m=\u001b[39m\u001b[38;5;28mint\u001b[39m(\u001b[38;5;28minput\u001b[39m(\u001b[38;5;124m\"\u001b[39m\u001b[38;5;124mEnter index that you want to access:\u001b[39m\u001b[38;5;124m\"\u001b[39m))\n\u001b[1;32m---> 18\u001b[0m \u001b[38;5;28mprint\u001b[39m(\u001b[43mlst\u001b[49m\u001b[43m[\u001b[49m\u001b[43mpos\u001b[49m\u001b[43m]\u001b[49m)\n\u001b[0;32m     20\u001b[0m \u001b[38;5;66;03m#If the user gives an invalid index, then it will throw an IndexError\u001b[39;00m\n",
      "\u001b[1;31mIndexError\u001b[0m: list index out of range"
     ]
    }
   ],
   "source": [
    "'''\n",
    "6. IndexError - This exception is a common exception in python that occurs when \n",
    "trying to access an element in a list, tuple, or any other sequence using an index \n",
    "that is outside the valid range of indices for that sequence. 'List Index Out of Range' \n",
    "Occur in Python when an item from a list or any other sequence is tried to be accessed \n",
    "that is outside the range of the list. '''\n",
    "\n",
    "#Description\n",
    "#error code\n",
    "\n",
    "n=int(input(\"Enter how many numbers:\"))\n",
    "lst=[]\n",
    "for i in range(n):\n",
    "    x=eval(input(\"Enter element {}\".format(i)))\n",
    "    lst.append(x)\n",
    "\n",
    "pos=int(input(\"Enter index that you want to access:\"))\n",
    "print(lst[pos])\n",
    "\n",
    "#If the user gives an invalid index, then it will throw an IndexError"
   ]
  },
  {
   "cell_type": "code",
   "execution_count": 23,
   "metadata": {},
   "outputs": [
    {
     "name": "stdout",
     "output_type": "stream",
     "text": [
      "IndexError: list index out of range\n"
     ]
    }
   ],
   "source": [
    "#Correct code\n",
    "n=int(input(\"Enter how many numbers:\"))\n",
    "lst=[]\n",
    "for i in range(n):\n",
    "    x=eval(input(\"Enter element {}\".format(i)))\n",
    "    lst.append(x)\n",
    "\n",
    "pos=int(input(\"Enter index that you want to access:\"))\n",
    "\n",
    "try:\n",
    "    print(lst[pos])\n",
    "except IndexError as e:\n",
    "    print(\"IndexError:\",e)"
   ]
  },
  {
   "cell_type": "code",
   "execution_count": 24,
   "metadata": {},
   "outputs": [
    {
     "ename": "IndentationError",
     "evalue": "expected an indented block after 'if' statement on line 11 (3282422623.py, line 12)",
     "output_type": "error",
     "traceback": [
      "\u001b[1;36m  Cell \u001b[1;32mIn[24], line 12\u001b[1;36m\u001b[0m\n\u001b[1;33m    print(\"It is even number\")\u001b[0m\n\u001b[1;37m    ^\u001b[0m\n\u001b[1;31mIndentationError\u001b[0m\u001b[1;31m:\u001b[0m expected an indented block after 'if' statement on line 11\n"
     ]
    }
   ],
   "source": [
    "'''\n",
    "7. IndentationError - If a block contains unevenly indented code (for example, two \n",
    "spaces before one line and four spaces before another), this confuses the interpreter \n",
    "and results in an IndentationError exception. Therefore, it is important to ensure that \n",
    "all statements in each block are prefaced with the same number of spaces.'''\n",
    "\n",
    "#Description\n",
    "#error code\n",
    "\n",
    "n=int(input(\"Enter any number:\"))\n",
    "if n%2==0:\n",
    "print(\"It is even number\")\n",
    "else:\n",
    "print(\"It is odd number\")"
   ]
  },
  {
   "cell_type": "code",
   "execution_count": 25,
   "metadata": {},
   "outputs": [
    {
     "ename": "IndentationError",
     "evalue": "expected an indented block after 'if' statement on line 8 (3726884990.py, line 9)",
     "output_type": "error",
     "traceback": [
      "\u001b[1;36m  Cell \u001b[1;32mIn[25], line 9\u001b[1;36m\u001b[0m\n\u001b[1;33m    print(\"It is even number\")          #wrong indentation\u001b[0m\n\u001b[1;37m    ^\u001b[0m\n\u001b[1;31mIndentationError\u001b[0m\u001b[1;31m:\u001b[0m expected an indented block after 'if' statement on line 8\n"
     ]
    }
   ],
   "source": [
    "'''IndentationError is the sub class of SyntaxError. So, like SyntaxError, this error is \n",
    "also a compile-time error, it is not an exception. So, that's why the only solution to \n",
    "this error is to correct the indentation and then try to run the program again.'''\n",
    "\n",
    "#Trying using try-except\n",
    "try:\n",
    "    n=int(input(\"Enter any number:\"))\n",
    "    if n%2==0:\n",
    "    print(\"It is even number\")          #wrong indentation\n",
    "    else:\n",
    "        print(\"It is odd number\")\n",
    "except IndentationError as e:\n",
    "    print(e)\n",
    "\n",
    "#Even if we use try-except, the program will continue to give error \n",
    "'''it is not allowing us to compile the code, the one and only solution is, to correct \n",
    "the indentation and then try running the program again.'''"
   ]
  },
  {
   "cell_type": "code",
   "execution_count": 26,
   "metadata": {},
   "outputs": [
    {
     "ename": "KeyError",
     "evalue": "'Farhan'",
     "output_type": "error",
     "traceback": [
      "\u001b[1;31m---------------------------------------------------------------------------\u001b[0m",
      "\u001b[1;31mKeyError\u001b[0m                                  Traceback (most recent call last)",
      "Cell \u001b[1;32mIn[26], line 14\u001b[0m\n\u001b[0;32m      8\u001b[0m subjects \u001b[38;5;241m=\u001b[39m {\u001b[38;5;124m'\u001b[39m\u001b[38;5;124mAjay\u001b[39m\u001b[38;5;124m'\u001b[39m: \u001b[38;5;124m'\u001b[39m\u001b[38;5;124mMaths\u001b[39m\u001b[38;5;124m'\u001b[39m, \n\u001b[0;32m      9\u001b[0m \t\t\t\u001b[38;5;124m'\u001b[39m\u001b[38;5;124mRam\u001b[39m\u001b[38;5;124m'\u001b[39m: \u001b[38;5;124m'\u001b[39m\u001b[38;5;124mBiology\u001b[39m\u001b[38;5;124m'\u001b[39m, \n\u001b[0;32m     10\u001b[0m \t\t\t\u001b[38;5;124m'\u001b[39m\u001b[38;5;124mShyam\u001b[39m\u001b[38;5;124m'\u001b[39m: \u001b[38;5;124m'\u001b[39m\u001b[38;5;124mScience\u001b[39m\u001b[38;5;124m'\u001b[39m, \n\u001b[0;32m     11\u001b[0m \t\t\t\u001b[38;5;124m'\u001b[39m\u001b[38;5;124mAbdul\u001b[39m\u001b[38;5;124m'\u001b[39m: \u001b[38;5;124m'\u001b[39m\u001b[38;5;124mHindi\u001b[39m\u001b[38;5;124m'\u001b[39m} \n\u001b[0;32m     13\u001b[0m \u001b[38;5;66;03m# Printing the subject of Farhan  \u001b[39;00m\n\u001b[1;32m---> 14\u001b[0m \u001b[38;5;28mprint\u001b[39m(\u001b[43msubjects\u001b[49m\u001b[43m[\u001b[49m\u001b[38;5;124;43m'\u001b[39;49m\u001b[38;5;124;43mFarhan\u001b[39;49m\u001b[38;5;124;43m'\u001b[39;49m\u001b[43m]\u001b[49m)      \n\u001b[0;32m     16\u001b[0m \u001b[38;5;66;03m#Key 'Farhan' is not there in the dictionary 'subjects'\u001b[39;00m\n",
      "\u001b[1;31mKeyError\u001b[0m: 'Farhan'"
     ]
    }
   ],
   "source": [
    "'''8. Key error - This exception is raised when a key is not found in a dictionary.\n",
    "It is raised when we try to access a key that isn't in a dictionary (dict).'''\n",
    "\n",
    "#Description\n",
    "#error code\n",
    "\n",
    "# Creating a Dictionary \n",
    "subjects = {'Ajay': 'Maths', \n",
    "\t\t\t'Ram': 'Biology', \n",
    "\t\t\t'Shyam': 'Science', \n",
    "\t\t\t'Abdul': 'Hindi'} \n",
    "\n",
    "# Printing the subject of Farhan  \n",
    "print(subjects['Farhan'])      \n",
    "\n",
    "#Key 'Farhan' is not there in the dictionary 'subjects'"
   ]
  },
  {
   "cell_type": "code",
   "execution_count": 27,
   "metadata": {},
   "outputs": [
    {
     "name": "stdout",
     "output_type": "stream",
     "text": [
      "KeyError: 'Farhan'\n"
     ]
    }
   ],
   "source": [
    "#Correct code\n",
    "# Creating a Dictionary \n",
    "subjects = {'Ajay': 'Maths', \n",
    "\t\t\t'Ram': 'Biology', \n",
    "\t\t\t'Shyam': 'Science', \n",
    "\t\t\t'Abdul': 'Hindi'} \n",
    "# try block \n",
    "try: \n",
    "\tprint('Subject of Farhan is:',subjects['Farhan']) \n",
    "# except Block \n",
    "except KeyError as e: \n",
    "\tprint(\"KeyError:\",e) "
   ]
  },
  {
   "cell_type": "code",
   "execution_count": 28,
   "metadata": {},
   "outputs": [
    {
     "name": "stdout",
     "output_type": "stream",
     "text": [
      "Ajay\n",
      "101\n"
     ]
    },
    {
     "ename": "AttributeError",
     "evalue": "'Student' object has no attribute 'per'",
     "output_type": "error",
     "traceback": [
      "\u001b[1;31m---------------------------------------------------------------------------\u001b[0m",
      "\u001b[1;31mAttributeError\u001b[0m                            Traceback (most recent call last)",
      "Cell \u001b[1;32mIn[28], line 19\u001b[0m\n\u001b[0;32m     16\u001b[0m \u001b[38;5;28mprint\u001b[39m(s1\u001b[38;5;241m.\u001b[39mname)              \u001b[38;5;66;03m#will print Ajay\u001b[39;00m\n\u001b[0;32m     17\u001b[0m \u001b[38;5;28mprint\u001b[39m(s1\u001b[38;5;241m.\u001b[39mroll)              \u001b[38;5;66;03m#will print 101\u001b[39;00m\n\u001b[1;32m---> 19\u001b[0m \u001b[38;5;28mprint\u001b[39m(\u001b[43ms1\u001b[49m\u001b[38;5;241;43m.\u001b[39;49m\u001b[43mper\u001b[49m)               \u001b[38;5;66;03m#will raise AttributeError \u001b[39;00m\n",
      "\u001b[1;31mAttributeError\u001b[0m: 'Student' object has no attribute 'per'"
     ]
    }
   ],
   "source": [
    "'''\n",
    "9. AttributeError - This exception is raised when an attribute (or method) is not found \n",
    "on an object, such as trying to access a non-existent attribute of a class instance.\n",
    "AttributeError can be defined as an error that is raised when an attribute reference \n",
    "or assignment fails. '''\n",
    "\n",
    "#Description\n",
    "#error code\n",
    "\n",
    "class Student:\n",
    "    def __init__(self,name,roll):\n",
    "        self.name=name\n",
    "        self.roll=roll\n",
    "\n",
    "s1=Student('Ajay',101)\n",
    "print(s1.name)              #will print Ajay\n",
    "print(s1.roll)              #will print 101\n",
    "\n",
    "print(s1.per)               #will raise AttributeError "
   ]
  },
  {
   "cell_type": "code",
   "execution_count": 29,
   "metadata": {},
   "outputs": [
    {
     "name": "stdout",
     "output_type": "stream",
     "text": [
      "Ajay\n",
      "101\n",
      "AttributeError: 'Student' object has no attribute 'per'\n"
     ]
    }
   ],
   "source": [
    "#Correct code\n",
    "\n",
    "class Student:\n",
    "    def __init__(self,name,roll):\n",
    "        self.name=name\n",
    "        self.roll=roll\n",
    "\n",
    "s1=Student('Ajay',101)\n",
    "try:                                #try block\n",
    "    print(s1.name)                  #will print Ajay\n",
    "    print(s1.roll)                  #will print 101\n",
    "    print(s1.per)           #will raise exception, but except block will catch the exception\n",
    "except AttributeError as e:\n",
    "    print(\"AttributeError:\",e)"
   ]
  },
  {
   "cell_type": "code",
   "execution_count": 31,
   "metadata": {},
   "outputs": [
    {
     "ename": "FileNotFoundError",
     "evalue": "[Errno 2] No such file or directory: 'C:/matrix/a.txt'",
     "output_type": "error",
     "traceback": [
      "\u001b[1;31m---------------------------------------------------------------------------\u001b[0m",
      "\u001b[1;31mFileNotFoundError\u001b[0m                         Traceback (most recent call last)",
      "Cell \u001b[1;32mIn[31], line 13\u001b[0m\n\u001b[0;32m      1\u001b[0m \u001b[38;5;124;03m'''\u001b[39;00m\n\u001b[0;32m      2\u001b[0m \u001b[38;5;124;03m10. FileNotFoundError - FileNotFoundError is an exception in Python that is raised when a \u001b[39;00m\n\u001b[0;32m      3\u001b[0m \u001b[38;5;124;03mprogram tries to access a file that doesn't exist. This error typically occurs when we \u001b[39;00m\n\u001b[0;32m      4\u001b[0m \u001b[38;5;124;03mattempt to perform file operations like opening, reading, writing, or deleting a file. \u001b[39;00m\n\u001b[0;32m      5\u001b[0m \u001b[38;5;124;03mPython cannot find the specified file at the provided path or location. '''\u001b[39;00m\n\u001b[0;32m      7\u001b[0m \u001b[38;5;66;03m#Description\u001b[39;00m\n\u001b[0;32m      8\u001b[0m \u001b[38;5;66;03m#error code\u001b[39;00m\n\u001b[0;32m      9\u001b[0m \n\u001b[0;32m     10\u001b[0m \u001b[38;5;66;03m#Let's say in the path 'C:/matrix', there is no file named 'a.txt'\u001b[39;00m\n\u001b[0;32m     11\u001b[0m \u001b[38;5;66;03m#But I am trying to open that a.txt file in 'r' mode\u001b[39;00m\n\u001b[1;32m---> 13\u001b[0m fp\u001b[38;5;241m=\u001b[39m\u001b[38;5;28;43mopen\u001b[39;49m\u001b[43m(\u001b[49m\u001b[38;5;124;43m\"\u001b[39;49m\u001b[38;5;124;43mC:/matrix/a.txt\u001b[39;49m\u001b[38;5;124;43m\"\u001b[39;49m\u001b[43m,\u001b[49m\u001b[38;5;124;43m\"\u001b[39;49m\u001b[38;5;124;43mr\u001b[39;49m\u001b[38;5;124;43m\"\u001b[39;49m\u001b[43m)\u001b[49m              \u001b[38;5;66;03m# will raise error\u001b[39;00m\n\u001b[0;32m     14\u001b[0m data\u001b[38;5;241m=\u001b[39mfp\u001b[38;5;241m.\u001b[39mread()\n\u001b[0;32m     15\u001b[0m \u001b[38;5;28mprint\u001b[39m(data)\n",
      "File \u001b[1;32mc:\\Users\\Dell\\AppData\\Local\\Programs\\Python\\Python312\\Lib\\site-packages\\IPython\\core\\interactiveshell.py:324\u001b[0m, in \u001b[0;36m_modified_open\u001b[1;34m(file, *args, **kwargs)\u001b[0m\n\u001b[0;32m    317\u001b[0m \u001b[38;5;28;01mif\u001b[39;00m file \u001b[38;5;129;01min\u001b[39;00m {\u001b[38;5;241m0\u001b[39m, \u001b[38;5;241m1\u001b[39m, \u001b[38;5;241m2\u001b[39m}:\n\u001b[0;32m    318\u001b[0m     \u001b[38;5;28;01mraise\u001b[39;00m \u001b[38;5;167;01mValueError\u001b[39;00m(\n\u001b[0;32m    319\u001b[0m         \u001b[38;5;124mf\u001b[39m\u001b[38;5;124m\"\u001b[39m\u001b[38;5;124mIPython won\u001b[39m\u001b[38;5;124m'\u001b[39m\u001b[38;5;124mt let you open fd=\u001b[39m\u001b[38;5;132;01m{\u001b[39;00mfile\u001b[38;5;132;01m}\u001b[39;00m\u001b[38;5;124m by default \u001b[39m\u001b[38;5;124m\"\u001b[39m\n\u001b[0;32m    320\u001b[0m         \u001b[38;5;124m\"\u001b[39m\u001b[38;5;124mas it is likely to crash IPython. If you know what you are doing, \u001b[39m\u001b[38;5;124m\"\u001b[39m\n\u001b[0;32m    321\u001b[0m         \u001b[38;5;124m\"\u001b[39m\u001b[38;5;124myou can use builtins\u001b[39m\u001b[38;5;124m'\u001b[39m\u001b[38;5;124m open.\u001b[39m\u001b[38;5;124m\"\u001b[39m\n\u001b[0;32m    322\u001b[0m     )\n\u001b[1;32m--> 324\u001b[0m \u001b[38;5;28;01mreturn\u001b[39;00m \u001b[43mio_open\u001b[49m\u001b[43m(\u001b[49m\u001b[43mfile\u001b[49m\u001b[43m,\u001b[49m\u001b[43m \u001b[49m\u001b[38;5;241;43m*\u001b[39;49m\u001b[43margs\u001b[49m\u001b[43m,\u001b[49m\u001b[43m \u001b[49m\u001b[38;5;241;43m*\u001b[39;49m\u001b[38;5;241;43m*\u001b[39;49m\u001b[43mkwargs\u001b[49m\u001b[43m)\u001b[49m\n",
      "\u001b[1;31mFileNotFoundError\u001b[0m: [Errno 2] No such file or directory: 'C:/matrix/a.txt'"
     ]
    }
   ],
   "source": [
    "'''\n",
    "10. FileNotFoundError - FileNotFoundError is an exception in Python that is raised when a \n",
    "program tries to access a file that doesn't exist. This error typically occurs when we \n",
    "attempt to perform file operations like opening, reading, writing, or deleting a file. \n",
    "Python cannot find the specified file at the provided path or location. '''\n",
    "\n",
    "#Description\n",
    "#error code\n",
    "\n",
    "#Let's say in the path 'C:/matrix', there is no file named 'a.txt'\n",
    "#But I am trying to open that a.txt file in 'r' mode\n",
    "\n",
    "fp=open(\"C:/matrix/a.txt\",\"r\")              # will raise error\n",
    "data=fp.read()\n",
    "print(data)\n",
    "fp.close()"
   ]
  },
  {
   "cell_type": "code",
   "execution_count": 32,
   "metadata": {},
   "outputs": [
    {
     "name": "stdout",
     "output_type": "stream",
     "text": [
      "FileNotFoundError: [Errno 2] No such file or directory: 'C:/matrix/a.txt'\n"
     ]
    }
   ],
   "source": [
    "#Correct code\n",
    "\n",
    "try:\n",
    "    fp=open(\"C:/matrix/a.txt\",\"r\")\n",
    "except FileNotFoundError as e:              #except block if exception comes in try block \n",
    "    print(\"FileNotFoundError:\",e)\n",
    "else:                               #else block if exception does not come in try block\n",
    "    data=fp.read()\n",
    "    print(data)\n",
    "    fp.close()"
   ]
  },
  {
   "cell_type": "code",
   "execution_count": 33,
   "metadata": {},
   "outputs": [
    {
     "ename": "FileExistsError",
     "evalue": "[Errno 17] File exists: 'C:/matrix/a.txt'",
     "output_type": "error",
     "traceback": [
      "\u001b[1;31m---------------------------------------------------------------------------\u001b[0m",
      "\u001b[1;31mFileExistsError\u001b[0m                           Traceback (most recent call last)",
      "Cell \u001b[1;32mIn[33], line 11\u001b[0m\n\u001b[0;32m      1\u001b[0m \u001b[38;5;124;03m'''\u001b[39;00m\n\u001b[0;32m      2\u001b[0m \u001b[38;5;124;03m11. FileExistsError - This exception is raised when we try to create a file or \u001b[39;00m\n\u001b[0;32m      3\u001b[0m \u001b[38;5;124;03mdirectory which already exists.'''\u001b[39;00m\n\u001b[0;32m      5\u001b[0m \u001b[38;5;66;03m#Description\u001b[39;00m\n\u001b[0;32m      6\u001b[0m \u001b[38;5;66;03m#error code\u001b[39;00m\n\u001b[0;32m      7\u001b[0m \n\u001b[0;32m      8\u001b[0m \u001b[38;5;66;03m#Let's say in 'C:/matrix', a file named 'a.txt' has already been created...\u001b[39;00m\n\u001b[0;32m      9\u001b[0m \u001b[38;5;66;03m#Now if we try to open that a.txt file in 'x' mode, it will raise FileExistsError\u001b[39;00m\n\u001b[1;32m---> 11\u001b[0m fp\u001b[38;5;241m=\u001b[39m\u001b[38;5;28;43mopen\u001b[39;49m\u001b[43m(\u001b[49m\u001b[38;5;124;43m\"\u001b[39;49m\u001b[38;5;124;43mC:/matrix/a.txt\u001b[39;49m\u001b[38;5;124;43m\"\u001b[39;49m\u001b[43m,\u001b[49m\u001b[38;5;124;43m\"\u001b[39;49m\u001b[38;5;124;43mx\u001b[39;49m\u001b[38;5;124;43m\"\u001b[39;49m\u001b[43m)\u001b[49m      \u001b[38;5;66;03m#this line will raise an exception\u001b[39;00m\n\u001b[0;32m     12\u001b[0m data\u001b[38;5;241m=\u001b[39m\u001b[38;5;124m'\u001b[39m\u001b[38;5;124mUpflairs Computer\u001b[39m\u001b[38;5;124m'\u001b[39m\n\u001b[0;32m     13\u001b[0m fp\u001b[38;5;241m.\u001b[39mwrite(data)\n",
      "File \u001b[1;32mc:\\Users\\Dell\\AppData\\Local\\Programs\\Python\\Python312\\Lib\\site-packages\\IPython\\core\\interactiveshell.py:324\u001b[0m, in \u001b[0;36m_modified_open\u001b[1;34m(file, *args, **kwargs)\u001b[0m\n\u001b[0;32m    317\u001b[0m \u001b[38;5;28;01mif\u001b[39;00m file \u001b[38;5;129;01min\u001b[39;00m {\u001b[38;5;241m0\u001b[39m, \u001b[38;5;241m1\u001b[39m, \u001b[38;5;241m2\u001b[39m}:\n\u001b[0;32m    318\u001b[0m     \u001b[38;5;28;01mraise\u001b[39;00m \u001b[38;5;167;01mValueError\u001b[39;00m(\n\u001b[0;32m    319\u001b[0m         \u001b[38;5;124mf\u001b[39m\u001b[38;5;124m\"\u001b[39m\u001b[38;5;124mIPython won\u001b[39m\u001b[38;5;124m'\u001b[39m\u001b[38;5;124mt let you open fd=\u001b[39m\u001b[38;5;132;01m{\u001b[39;00mfile\u001b[38;5;132;01m}\u001b[39;00m\u001b[38;5;124m by default \u001b[39m\u001b[38;5;124m\"\u001b[39m\n\u001b[0;32m    320\u001b[0m         \u001b[38;5;124m\"\u001b[39m\u001b[38;5;124mas it is likely to crash IPython. If you know what you are doing, \u001b[39m\u001b[38;5;124m\"\u001b[39m\n\u001b[0;32m    321\u001b[0m         \u001b[38;5;124m\"\u001b[39m\u001b[38;5;124myou can use builtins\u001b[39m\u001b[38;5;124m'\u001b[39m\u001b[38;5;124m open.\u001b[39m\u001b[38;5;124m\"\u001b[39m\n\u001b[0;32m    322\u001b[0m     )\n\u001b[1;32m--> 324\u001b[0m \u001b[38;5;28;01mreturn\u001b[39;00m \u001b[43mio_open\u001b[49m\u001b[43m(\u001b[49m\u001b[43mfile\u001b[49m\u001b[43m,\u001b[49m\u001b[43m \u001b[49m\u001b[38;5;241;43m*\u001b[39;49m\u001b[43margs\u001b[49m\u001b[43m,\u001b[49m\u001b[43m \u001b[49m\u001b[38;5;241;43m*\u001b[39;49m\u001b[38;5;241;43m*\u001b[39;49m\u001b[43mkwargs\u001b[49m\u001b[43m)\u001b[49m\n",
      "\u001b[1;31mFileExistsError\u001b[0m: [Errno 17] File exists: 'C:/matrix/a.txt'"
     ]
    }
   ],
   "source": [
    "'''\n",
    "11. FileExistsError - This exception is raised when we try to create a file or \n",
    "directory which already exists.'''\n",
    "\n",
    "#Description\n",
    "#error code\n",
    "\n",
    "#Let's say in 'C:/matrix', a file named 'a.txt' has already been created...\n",
    "#Now if we try to open that a.txt file in 'x' mode, it will raise FileExistsError\n",
    "\n",
    "fp=open(\"C:/matrix/a.txt\",\"x\")      #this line will raise an exception\n",
    "data='Upflairs Computer'\n",
    "fp.write(data)\n",
    "fp.close()"
   ]
  },
  {
   "cell_type": "code",
   "execution_count": 37,
   "metadata": {},
   "outputs": [],
   "source": [
    "#Correct code\n",
    "try:                                        #try block\n",
    "    fp=open(\"C:/matrix/b.txt\",\"x\")        \n",
    "except FileExistsError as e:\n",
    "    print(\"FileExistsError:\",e)\n",
    "else:\n",
    "    data='Upflairs Computer'\n",
    "    fp.write(data)\n",
    "    fp.close()"
   ]
  },
  {
   "cell_type": "code",
   "execution_count": 38,
   "metadata": {},
   "outputs": [
    {
     "ename": "ModuleNotFoundError",
     "evalue": "No module named 'maths'",
     "output_type": "error",
     "traceback": [
      "\u001b[1;31m---------------------------------------------------------------------------\u001b[0m",
      "\u001b[1;31mModuleNotFoundError\u001b[0m                       Traceback (most recent call last)",
      "Cell \u001b[1;32mIn[38], line 10\u001b[0m\n\u001b[0;32m      1\u001b[0m \u001b[38;5;124;03m'''\u001b[39;00m\n\u001b[0;32m      2\u001b[0m \u001b[38;5;124;03m12. ModuleNotFoundError - The “ModuleNotFoundError” in Python occurs when the interpreter \u001b[39;00m\n\u001b[0;32m      3\u001b[0m \u001b[38;5;124;03mcannot find the specified module in our code. This can happen due to various reasons such as \u001b[39;00m\n\u001b[0;32m      4\u001b[0m \u001b[38;5;124;03mmisspelling the module name, not having the module installed, or the module being installed \u001b[39;00m\n\u001b[0;32m      5\u001b[0m \u001b[38;5;124;03min a different environment. '''\u001b[39;00m\n\u001b[0;32m      7\u001b[0m \u001b[38;5;66;03m#Description\u001b[39;00m\n\u001b[0;32m      8\u001b[0m \u001b[38;5;66;03m#Error code\u001b[39;00m\n\u001b[1;32m---> 10\u001b[0m \u001b[38;5;28;01mimport\u001b[39;00m \u001b[38;5;21;01mmaths\u001b[39;00m                \u001b[38;5;66;03m#there is no module named 'maths'\u001b[39;00m\n\u001b[0;32m     11\u001b[0m \u001b[38;5;28mprint\u001b[39m(maths\u001b[38;5;241m.\u001b[39mpow(\u001b[38;5;241m5\u001b[39m,\u001b[38;5;241m3\u001b[39m))\n",
      "\u001b[1;31mModuleNotFoundError\u001b[0m: No module named 'maths'"
     ]
    }
   ],
   "source": [
    "'''\n",
    "12. ModuleNotFoundError - The “ModuleNotFoundError” in Python occurs when the interpreter \n",
    "cannot find the specified module in our code. This can happen due to various reasons such as \n",
    "misspelling the module name, not having the module installed, or the module being installed \n",
    "in a different environment. '''\n",
    "\n",
    "#Description\n",
    "#Error code\n",
    "\n",
    "import maths                #there is no module named 'maths'\n",
    "print(maths.pow(5,3))"
   ]
  },
  {
   "cell_type": "code",
   "execution_count": 40,
   "metadata": {},
   "outputs": [
    {
     "name": "stdout",
     "output_type": "stream",
     "text": [
      "ModuleNotFoundError: No module named 'maths'\n"
     ]
    }
   ],
   "source": [
    "#Correct code\n",
    "try:\n",
    "    import maths\n",
    "    print(maths.pow(5,3))\n",
    "except ModuleNotFoundError as e:\n",
    "    print(\"ModuleNotFoundError:\",e)"
   ]
  }
 ],
 "metadata": {
  "kernelspec": {
   "display_name": "Python 3",
   "language": "python",
   "name": "python3"
  },
  "language_info": {
   "codemirror_mode": {
    "name": "ipython",
    "version": 3
   },
   "file_extension": ".py",
   "mimetype": "text/x-python",
   "name": "python",
   "nbconvert_exporter": "python",
   "pygments_lexer": "ipython3",
   "version": "3.12.2"
  },
  "orig_nbformat": 4
 },
 "nbformat": 4,
 "nbformat_minor": 2
}
